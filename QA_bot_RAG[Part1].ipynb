{
  "nbformat": 4,
  "nbformat_minor": 0,
  "metadata": {
    "colab": {
      "provenance": []
    },
    "kernelspec": {
      "name": "python3",
      "display_name": "Python 3"
    },
    "language_info": {
      "name": "python"
    }
  },
  "cells": [
    {
      "cell_type": "code",
      "execution_count": null,
      "metadata": {
        "colab": {
          "base_uri": "https://localhost:8080/"
        },
        "id": "cT4HieUWWydC",
        "outputId": "091a4e33-4686-4bdf-c82a-30d74ddcb2f1"
      },
      "outputs": [
        {
          "output_type": "stream",
          "name": "stdout",
          "text": [
            "Requirement already satisfied: openai in /usr/local/lib/python3.10/dist-packages (1.47.0)\n",
            "Requirement already satisfied: langchain in /usr/local/lib/python3.10/dist-packages (0.3.0)\n",
            "Requirement already satisfied: chromadb in /usr/local/lib/python3.10/dist-packages (0.5.7)\n",
            "Requirement already satisfied: langchain_community in /usr/local/lib/python3.10/dist-packages (0.3.0)\n",
            "Requirement already satisfied: tiktoken in /usr/local/lib/python3.10/dist-packages (0.7.0)\n",
            "Collecting langchain-openai\n",
            "  Downloading langchain_openai-0.2.0-py3-none-any.whl.metadata (2.6 kB)\n",
            "Requirement already satisfied: anyio<5,>=3.5.0 in /usr/local/lib/python3.10/dist-packages (from openai) (3.7.1)\n",
            "Requirement already satisfied: distro<2,>=1.7.0 in /usr/lib/python3/dist-packages (from openai) (1.7.0)\n",
            "Requirement already satisfied: httpx<1,>=0.23.0 in /usr/local/lib/python3.10/dist-packages (from openai) (0.27.2)\n",
            "Requirement already satisfied: jiter<1,>=0.4.0 in /usr/local/lib/python3.10/dist-packages (from openai) (0.5.0)\n",
            "Requirement already satisfied: pydantic<3,>=1.9.0 in /usr/local/lib/python3.10/dist-packages (from openai) (2.9.2)\n",
            "Requirement already satisfied: sniffio in /usr/local/lib/python3.10/dist-packages (from openai) (1.3.1)\n",
            "Requirement already satisfied: tqdm>4 in /usr/local/lib/python3.10/dist-packages (from openai) (4.66.5)\n",
            "Requirement already satisfied: typing-extensions<5,>=4.11 in /usr/local/lib/python3.10/dist-packages (from openai) (4.12.2)\n",
            "Requirement already satisfied: PyYAML>=5.3 in /usr/local/lib/python3.10/dist-packages (from langchain) (6.0.2)\n",
            "Requirement already satisfied: SQLAlchemy<3,>=1.4 in /usr/local/lib/python3.10/dist-packages (from langchain) (2.0.35)\n",
            "Requirement already satisfied: aiohttp<4.0.0,>=3.8.3 in /usr/local/lib/python3.10/dist-packages (from langchain) (3.9.5)\n",
            "Requirement already satisfied: async-timeout<5.0.0,>=4.0.0 in /usr/local/lib/python3.10/dist-packages (from langchain) (4.0.3)\n",
            "Requirement already satisfied: langchain-core<0.4.0,>=0.3.0 in /usr/local/lib/python3.10/dist-packages (from langchain) (0.3.5)\n",
            "Requirement already satisfied: langchain-text-splitters<0.4.0,>=0.3.0 in /usr/local/lib/python3.10/dist-packages (from langchain) (0.3.0)\n",
            "Requirement already satisfied: langsmith<0.2.0,>=0.1.17 in /usr/local/lib/python3.10/dist-packages (from langchain) (0.1.125)\n",
            "Requirement already satisfied: numpy<2,>=1 in /usr/local/lib/python3.10/dist-packages (from langchain) (1.26.4)\n",
            "Requirement already satisfied: requests<3,>=2 in /usr/local/lib/python3.10/dist-packages (from langchain) (2.32.3)\n",
            "Requirement already satisfied: tenacity!=8.4.0,<9.0.0,>=8.1.0 in /usr/local/lib/python3.10/dist-packages (from langchain) (8.5.0)\n",
            "Requirement already satisfied: build>=1.0.3 in /usr/local/lib/python3.10/dist-packages (from chromadb) (1.2.2)\n",
            "Requirement already satisfied: chroma-hnswlib==0.7.6 in /usr/local/lib/python3.10/dist-packages (from chromadb) (0.7.6)\n",
            "Requirement already satisfied: fastapi>=0.95.2 in /usr/local/lib/python3.10/dist-packages (from chromadb) (0.115.0)\n",
            "Requirement already satisfied: uvicorn>=0.18.3 in /usr/local/lib/python3.10/dist-packages (from uvicorn[standard]>=0.18.3->chromadb) (0.30.6)\n",
            "Requirement already satisfied: posthog>=2.4.0 in /usr/local/lib/python3.10/dist-packages (from chromadb) (3.6.6)\n",
            "Requirement already satisfied: onnxruntime>=1.14.1 in /usr/local/lib/python3.10/dist-packages (from chromadb) (1.19.2)\n",
            "Requirement already satisfied: opentelemetry-api>=1.2.0 in /usr/local/lib/python3.10/dist-packages (from chromadb) (1.27.0)\n",
            "Requirement already satisfied: opentelemetry-exporter-otlp-proto-grpc>=1.2.0 in /usr/local/lib/python3.10/dist-packages (from chromadb) (1.27.0)\n",
            "Requirement already satisfied: opentelemetry-instrumentation-fastapi>=0.41b0 in /usr/local/lib/python3.10/dist-packages (from chromadb) (0.48b0)\n",
            "Requirement already satisfied: opentelemetry-sdk>=1.2.0 in /usr/local/lib/python3.10/dist-packages (from chromadb) (1.27.0)\n",
            "Requirement already satisfied: tokenizers>=0.13.2 in /usr/local/lib/python3.10/dist-packages (from chromadb) (0.19.1)\n",
            "Requirement already satisfied: pypika>=0.48.9 in /usr/local/lib/python3.10/dist-packages (from chromadb) (0.48.9)\n",
            "Requirement already satisfied: overrides>=7.3.1 in /usr/local/lib/python3.10/dist-packages (from chromadb) (7.7.0)\n",
            "Requirement already satisfied: importlib-resources in /usr/local/lib/python3.10/dist-packages (from chromadb) (6.4.5)\n",
            "Requirement already satisfied: grpcio>=1.58.0 in /usr/local/lib/python3.10/dist-packages (from chromadb) (1.64.1)\n",
            "Requirement already satisfied: bcrypt>=4.0.1 in /usr/local/lib/python3.10/dist-packages (from chromadb) (4.2.0)\n",
            "Requirement already satisfied: typer>=0.9.0 in /usr/local/lib/python3.10/dist-packages (from chromadb) (0.12.5)\n",
            "Requirement already satisfied: kubernetes>=28.1.0 in /usr/local/lib/python3.10/dist-packages (from chromadb) (31.0.0)\n",
            "Requirement already satisfied: mmh3>=4.0.1 in /usr/local/lib/python3.10/dist-packages (from chromadb) (5.0.0)\n",
            "Requirement already satisfied: orjson>=3.9.12 in /usr/local/lib/python3.10/dist-packages (from chromadb) (3.10.7)\n",
            "Requirement already satisfied: rich>=10.11.0 in /usr/local/lib/python3.10/dist-packages (from chromadb) (13.8.1)\n",
            "Requirement already satisfied: dataclasses-json<0.7,>=0.5.7 in /usr/local/lib/python3.10/dist-packages (from langchain_community) (0.6.7)\n",
            "Requirement already satisfied: pydantic-settings<3.0.0,>=2.4.0 in /usr/local/lib/python3.10/dist-packages (from langchain_community) (2.5.2)\n",
            "Requirement already satisfied: regex>=2022.1.18 in /usr/local/lib/python3.10/dist-packages (from tiktoken) (2024.9.11)\n",
            "Requirement already satisfied: aiosignal>=1.1.2 in /usr/local/lib/python3.10/dist-packages (from aiohttp<4.0.0,>=3.8.3->langchain) (1.3.1)\n",
            "Requirement already satisfied: attrs>=17.3.0 in /usr/local/lib/python3.10/dist-packages (from aiohttp<4.0.0,>=3.8.3->langchain) (24.2.0)\n",
            "Requirement already satisfied: frozenlist>=1.1.1 in /usr/local/lib/python3.10/dist-packages (from aiohttp<4.0.0,>=3.8.3->langchain) (1.4.1)\n",
            "Requirement already satisfied: multidict<7.0,>=4.5 in /usr/local/lib/python3.10/dist-packages (from aiohttp<4.0.0,>=3.8.3->langchain) (6.1.0)\n",
            "Requirement already satisfied: yarl<2.0,>=1.0 in /usr/local/lib/python3.10/dist-packages (from aiohttp<4.0.0,>=3.8.3->langchain) (1.11.1)\n",
            "Requirement already satisfied: idna>=2.8 in /usr/local/lib/python3.10/dist-packages (from anyio<5,>=3.5.0->openai) (3.10)\n",
            "Requirement already satisfied: exceptiongroup in /usr/local/lib/python3.10/dist-packages (from anyio<5,>=3.5.0->openai) (1.2.2)\n",
            "Requirement already satisfied: packaging>=19.1 in /usr/local/lib/python3.10/dist-packages (from build>=1.0.3->chromadb) (24.1)\n",
            "Requirement already satisfied: pyproject_hooks in /usr/local/lib/python3.10/dist-packages (from build>=1.0.3->chromadb) (1.1.0)\n",
            "Requirement already satisfied: tomli>=1.1.0 in /usr/local/lib/python3.10/dist-packages (from build>=1.0.3->chromadb) (2.0.1)\n",
            "Requirement already satisfied: marshmallow<4.0.0,>=3.18.0 in /usr/local/lib/python3.10/dist-packages (from dataclasses-json<0.7,>=0.5.7->langchain_community) (3.22.0)\n",
            "Requirement already satisfied: typing-inspect<1,>=0.4.0 in /usr/local/lib/python3.10/dist-packages (from dataclasses-json<0.7,>=0.5.7->langchain_community) (0.9.0)\n",
            "Requirement already satisfied: starlette<0.39.0,>=0.37.2 in /usr/local/lib/python3.10/dist-packages (from fastapi>=0.95.2->chromadb) (0.38.5)\n",
            "Requirement already satisfied: certifi in /usr/local/lib/python3.10/dist-packages (from httpx<1,>=0.23.0->openai) (2024.8.30)\n",
            "Requirement already satisfied: httpcore==1.* in /usr/local/lib/python3.10/dist-packages (from httpx<1,>=0.23.0->openai) (1.0.5)\n",
            "Requirement already satisfied: h11<0.15,>=0.13 in /usr/local/lib/python3.10/dist-packages (from httpcore==1.*->httpx<1,>=0.23.0->openai) (0.14.0)\n",
            "Requirement already satisfied: six>=1.9.0 in /usr/local/lib/python3.10/dist-packages (from kubernetes>=28.1.0->chromadb) (1.16.0)\n",
            "Requirement already satisfied: python-dateutil>=2.5.3 in /usr/local/lib/python3.10/dist-packages (from kubernetes>=28.1.0->chromadb) (2.8.2)\n",
            "Requirement already satisfied: google-auth>=1.0.1 in /usr/local/lib/python3.10/dist-packages (from kubernetes>=28.1.0->chromadb) (2.27.0)\n",
            "Requirement already satisfied: websocket-client!=0.40.0,!=0.41.*,!=0.42.*,>=0.32.0 in /usr/local/lib/python3.10/dist-packages (from kubernetes>=28.1.0->chromadb) (1.8.0)\n",
            "Requirement already satisfied: requests-oauthlib in /usr/local/lib/python3.10/dist-packages (from kubernetes>=28.1.0->chromadb) (1.3.1)\n",
            "Requirement already satisfied: oauthlib>=3.2.2 in /usr/local/lib/python3.10/dist-packages (from kubernetes>=28.1.0->chromadb) (3.2.2)\n",
            "Requirement already satisfied: urllib3>=1.24.2 in /usr/local/lib/python3.10/dist-packages (from kubernetes>=28.1.0->chromadb) (2.0.7)\n",
            "Requirement already satisfied: durationpy>=0.7 in /usr/local/lib/python3.10/dist-packages (from kubernetes>=28.1.0->chromadb) (0.7)\n",
            "Requirement already satisfied: jsonpatch<2.0,>=1.33 in /usr/local/lib/python3.10/dist-packages (from langchain-core<0.4.0,>=0.3.0->langchain) (1.33)\n",
            "Requirement already satisfied: coloredlogs in /usr/local/lib/python3.10/dist-packages (from onnxruntime>=1.14.1->chromadb) (15.0.1)\n",
            "Requirement already satisfied: flatbuffers in /usr/local/lib/python3.10/dist-packages (from onnxruntime>=1.14.1->chromadb) (24.3.25)\n",
            "Requirement already satisfied: protobuf in /usr/local/lib/python3.10/dist-packages (from onnxruntime>=1.14.1->chromadb) (3.20.3)\n",
            "Requirement already satisfied: sympy in /usr/local/lib/python3.10/dist-packages (from onnxruntime>=1.14.1->chromadb) (1.13.2)\n",
            "Requirement already satisfied: deprecated>=1.2.6 in /usr/local/lib/python3.10/dist-packages (from opentelemetry-api>=1.2.0->chromadb) (1.2.14)\n",
            "Requirement already satisfied: importlib-metadata<=8.4.0,>=6.0 in /usr/local/lib/python3.10/dist-packages (from opentelemetry-api>=1.2.0->chromadb) (8.4.0)\n",
            "Requirement already satisfied: googleapis-common-protos~=1.52 in /usr/local/lib/python3.10/dist-packages (from opentelemetry-exporter-otlp-proto-grpc>=1.2.0->chromadb) (1.65.0)\n",
            "Requirement already satisfied: opentelemetry-exporter-otlp-proto-common==1.27.0 in /usr/local/lib/python3.10/dist-packages (from opentelemetry-exporter-otlp-proto-grpc>=1.2.0->chromadb) (1.27.0)\n",
            "Requirement already satisfied: opentelemetry-proto==1.27.0 in /usr/local/lib/python3.10/dist-packages (from opentelemetry-exporter-otlp-proto-grpc>=1.2.0->chromadb) (1.27.0)\n",
            "Requirement already satisfied: opentelemetry-instrumentation-asgi==0.48b0 in /usr/local/lib/python3.10/dist-packages (from opentelemetry-instrumentation-fastapi>=0.41b0->chromadb) (0.48b0)\n",
            "Requirement already satisfied: opentelemetry-instrumentation==0.48b0 in /usr/local/lib/python3.10/dist-packages (from opentelemetry-instrumentation-fastapi>=0.41b0->chromadb) (0.48b0)\n",
            "Requirement already satisfied: opentelemetry-semantic-conventions==0.48b0 in /usr/local/lib/python3.10/dist-packages (from opentelemetry-instrumentation-fastapi>=0.41b0->chromadb) (0.48b0)\n",
            "Requirement already satisfied: opentelemetry-util-http==0.48b0 in /usr/local/lib/python3.10/dist-packages (from opentelemetry-instrumentation-fastapi>=0.41b0->chromadb) (0.48b0)\n",
            "Requirement already satisfied: setuptools>=16.0 in /usr/local/lib/python3.10/dist-packages (from opentelemetry-instrumentation==0.48b0->opentelemetry-instrumentation-fastapi>=0.41b0->chromadb) (71.0.4)\n",
            "Requirement already satisfied: wrapt<2.0.0,>=1.0.0 in /usr/local/lib/python3.10/dist-packages (from opentelemetry-instrumentation==0.48b0->opentelemetry-instrumentation-fastapi>=0.41b0->chromadb) (1.16.0)\n",
            "Requirement already satisfied: asgiref~=3.0 in /usr/local/lib/python3.10/dist-packages (from opentelemetry-instrumentation-asgi==0.48b0->opentelemetry-instrumentation-fastapi>=0.41b0->chromadb) (3.8.1)\n",
            "Requirement already satisfied: monotonic>=1.5 in /usr/local/lib/python3.10/dist-packages (from posthog>=2.4.0->chromadb) (1.6)\n",
            "Requirement already satisfied: backoff>=1.10.0 in /usr/local/lib/python3.10/dist-packages (from posthog>=2.4.0->chromadb) (2.2.1)\n",
            "Requirement already satisfied: annotated-types>=0.6.0 in /usr/local/lib/python3.10/dist-packages (from pydantic<3,>=1.9.0->openai) (0.7.0)\n",
            "Requirement already satisfied: pydantic-core==2.23.4 in /usr/local/lib/python3.10/dist-packages (from pydantic<3,>=1.9.0->openai) (2.23.4)\n",
            "Requirement already satisfied: python-dotenv>=0.21.0 in /usr/local/lib/python3.10/dist-packages (from pydantic-settings<3.0.0,>=2.4.0->langchain_community) (1.0.1)\n",
            "Requirement already satisfied: charset-normalizer<4,>=2 in /usr/local/lib/python3.10/dist-packages (from requests<3,>=2->langchain) (3.3.2)\n",
            "Requirement already satisfied: markdown-it-py>=2.2.0 in /usr/local/lib/python3.10/dist-packages (from rich>=10.11.0->chromadb) (3.0.0)\n",
            "Requirement already satisfied: pygments<3.0.0,>=2.13.0 in /usr/local/lib/python3.10/dist-packages (from rich>=10.11.0->chromadb) (2.18.0)\n",
            "Requirement already satisfied: greenlet!=0.4.17 in /usr/local/lib/python3.10/dist-packages (from SQLAlchemy<3,>=1.4->langchain) (3.1.0)\n",
            "Requirement already satisfied: huggingface-hub<1.0,>=0.16.4 in /usr/local/lib/python3.10/dist-packages (from tokenizers>=0.13.2->chromadb) (0.24.7)\n",
            "Requirement already satisfied: click>=8.0.0 in /usr/local/lib/python3.10/dist-packages (from typer>=0.9.0->chromadb) (8.1.7)\n",
            "Requirement already satisfied: shellingham>=1.3.0 in /usr/local/lib/python3.10/dist-packages (from typer>=0.9.0->chromadb) (1.5.4)\n",
            "Requirement already satisfied: httptools>=0.5.0 in /usr/local/lib/python3.10/dist-packages (from uvicorn[standard]>=0.18.3->chromadb) (0.6.1)\n",
            "Requirement already satisfied: uvloop!=0.15.0,!=0.15.1,>=0.14.0 in /usr/local/lib/python3.10/dist-packages (from uvicorn[standard]>=0.18.3->chromadb) (0.20.0)\n",
            "Requirement already satisfied: watchfiles>=0.13 in /usr/local/lib/python3.10/dist-packages (from uvicorn[standard]>=0.18.3->chromadb) (0.24.0)\n",
            "Requirement already satisfied: websockets>=10.4 in /usr/local/lib/python3.10/dist-packages (from uvicorn[standard]>=0.18.3->chromadb) (13.1)\n",
            "Requirement already satisfied: cachetools<6.0,>=2.0.0 in /usr/local/lib/python3.10/dist-packages (from google-auth>=1.0.1->kubernetes>=28.1.0->chromadb) (5.5.0)\n",
            "Requirement already satisfied: pyasn1-modules>=0.2.1 in /usr/local/lib/python3.10/dist-packages (from google-auth>=1.0.1->kubernetes>=28.1.0->chromadb) (0.4.1)\n",
            "Requirement already satisfied: rsa<5,>=3.1.4 in /usr/local/lib/python3.10/dist-packages (from google-auth>=1.0.1->kubernetes>=28.1.0->chromadb) (4.9)\n",
            "Requirement already satisfied: filelock in /usr/local/lib/python3.10/dist-packages (from huggingface-hub<1.0,>=0.16.4->tokenizers>=0.13.2->chromadb) (3.16.1)\n",
            "Requirement already satisfied: fsspec>=2023.5.0 in /usr/local/lib/python3.10/dist-packages (from huggingface-hub<1.0,>=0.16.4->tokenizers>=0.13.2->chromadb) (2024.6.1)\n",
            "Requirement already satisfied: zipp>=0.5 in /usr/local/lib/python3.10/dist-packages (from importlib-metadata<=8.4.0,>=6.0->opentelemetry-api>=1.2.0->chromadb) (3.20.2)\n",
            "Requirement already satisfied: jsonpointer>=1.9 in /usr/local/lib/python3.10/dist-packages (from jsonpatch<2.0,>=1.33->langchain-core<0.4.0,>=0.3.0->langchain) (3.0.0)\n",
            "Requirement already satisfied: mdurl~=0.1 in /usr/local/lib/python3.10/dist-packages (from markdown-it-py>=2.2.0->rich>=10.11.0->chromadb) (0.1.2)\n",
            "Requirement already satisfied: mypy-extensions>=0.3.0 in /usr/local/lib/python3.10/dist-packages (from typing-inspect<1,>=0.4.0->dataclasses-json<0.7,>=0.5.7->langchain_community) (1.0.0)\n",
            "Requirement already satisfied: humanfriendly>=9.1 in /usr/local/lib/python3.10/dist-packages (from coloredlogs->onnxruntime>=1.14.1->chromadb) (10.0)\n",
            "Requirement already satisfied: mpmath<1.4,>=1.1.0 in /usr/local/lib/python3.10/dist-packages (from sympy->onnxruntime>=1.14.1->chromadb) (1.3.0)\n",
            "Requirement already satisfied: pyasn1<0.7.0,>=0.4.6 in /usr/local/lib/python3.10/dist-packages (from pyasn1-modules>=0.2.1->google-auth>=1.0.1->kubernetes>=28.1.0->chromadb) (0.6.1)\n",
            "Downloading langchain_openai-0.2.0-py3-none-any.whl (51 kB)\n",
            "\u001b[2K   \u001b[90m━━━━━━━━━━━━━━━━━━━━━━━━━━━━━━━━━━━━━━━━\u001b[0m \u001b[32m51.5/51.5 kB\u001b[0m \u001b[31m1.8 MB/s\u001b[0m eta \u001b[36m0:00:00\u001b[0m\n",
            "\u001b[?25hInstalling collected packages: langchain-openai\n",
            "Successfully installed langchain-openai-0.2.0\n"
          ]
        }
      ],
      "source": [
        "!pip install openai langchain chromadb langchain langchain_community tiktoken langchain-openai\n"
      ]
    },
    {
      "cell_type": "code",
      "source": [
        "from langchain.document_loaders import TextLoader\n",
        "from langchain.embeddings.azure_openai import AzureOpenAIEmbeddings\n",
        "from langchain.vectorstores import Chroma\n",
        "from langchain.text_splitter import RecursiveCharacterTextSplitter\n",
        "from langchain.chains import RetrievalQA\n",
        "from langchain_openai import AzureChatOpenAI\n",
        "import pandas as pd\n",
        "from langchain.schema import Document\n",
        "import getpass"
      ],
      "metadata": {
        "id": "bZVEvwgoYPIE"
      },
      "execution_count": null,
      "outputs": []
    },
    {
      "cell_type": "code",
      "source": [
        "pip install PyPDF2"
      ],
      "metadata": {
        "colab": {
          "base_uri": "https://localhost:8080/"
        },
        "id": "csiqtDVH_jqo",
        "outputId": "a1bd30cb-e28c-4833-fb95-57b0a1b3422e"
      },
      "execution_count": null,
      "outputs": [
        {
          "output_type": "stream",
          "name": "stdout",
          "text": [
            "Collecting PyPDF2\n",
            "  Downloading pypdf2-3.0.1-py3-none-any.whl.metadata (6.8 kB)\n",
            "Downloading pypdf2-3.0.1-py3-none-any.whl (232 kB)\n",
            "\u001b[?25l   \u001b[90m━━━━━━━━━━━━━━━━━━━━━━━━━━━━━━━━━━━━━━━━\u001b[0m \u001b[32m0.0/232.6 kB\u001b[0m \u001b[31m?\u001b[0m eta \u001b[36m-:--:--\u001b[0m\r\u001b[2K   \u001b[91m━━━━━━━━━━━━━━━━━━━━━━━━━━\u001b[0m\u001b[90m╺\u001b[0m\u001b[90m━━━━━━━━━━━━━\u001b[0m \u001b[32m153.6/232.6 kB\u001b[0m \u001b[31m4.4 MB/s\u001b[0m eta \u001b[36m0:00:01\u001b[0m\r\u001b[2K   \u001b[90m━━━━━━━━━━━━━━━━━━━━━━━━━━━━━━━━━━━━━━━━\u001b[0m \u001b[32m232.6/232.6 kB\u001b[0m \u001b[31m4.2 MB/s\u001b[0m eta \u001b[36m0:00:00\u001b[0m\n",
            "\u001b[?25hInstalling collected packages: PyPDF2\n",
            "Successfully installed PyPDF2-3.0.1\n"
          ]
        }
      ]
    },
    {
      "cell_type": "code",
      "source": [
        "import PyPDF2"
      ],
      "metadata": {
        "id": "2HEY6Dfn_nUh"
      },
      "execution_count": null,
      "outputs": []
    },
    {
      "cell_type": "code",
      "source": [
        "pdf_reader = PyPDF2.PdfReader('/content/Company_Data.pdf')\n",
        "text = \"\"\n",
        "for page in pdf_reader.pages:\n",
        "    text += page.extract_text() + \"\\n\"\n",
        "text"
      ],
      "metadata": {
        "colab": {
          "base_uri": "https://localhost:8080/",
          "height": 1000
        },
        "id": "n3UTMnZS_eaT",
        "outputId": "23011fdb-9398-46af-ecc0-c56b470d1343"
      },
      "execution_count": null,
      "outputs": [
        {
          "output_type": "execute_result",
          "data": {
            "text/plain": [
              "'Company_Data\\nPage 1SalesCompPriceIncomeAdvertisingPopulationPriceShelveLocAgeEducationUrbanUS\\n9.51387311276120Bad4217YesYes\\n11.22111481626083Good6510YesYes\\n10.06113351026980Medium5912YesYes\\n7.4117100446697Medium5514YesYes\\n4.15141643340128Bad3813YesNo\\n10.811241131350172Bad7816NoYes\\n6.63115105045108Medium7115YesNo\\n11.851368115425120Good6710YesYes\\n6.541321100108124Medium7610NoNo\\n4.691321130131124Medium7617NoYes\\n9.01121789150100Bad2610NoYes\\n11.9611794450394Good5013YesYes\\n3.98122352393136Medium6218YesNo\\n10.9611528112986Good5318YesYes\\n11.1710711711148118Good5218YesYes\\n8.71149955400144Medium7618NoNo\\n7.58118320284110Good6313YesNo\\n12.291477413251131Good5210YesYes\\n13.91110110040868Good4617NoYes\\n8.73129761658121Medium6912YesYes\\n6.41125902367131Medium3518YesYes\\n12.131342912239109Good6218NoYes\\n5.08128466497138Medium4213YesNo\\n5.87121310292109Medium7910YesNo\\n10.1414511916294113Bad4212YesYes\\n14.913932017682Good5411NoNo\\n8.3310711511496131Good5011NoYes\\n5.2798118019107Medium6417YesNo\\n2.9910374035997Bad5511YesYes\\n7.811049915226102Bad5817YesYes\\n13.5512594044789Good3012YesNo\\n8.251365816241131Medium4418YesYes\\n6.21073212236137Good6410NoYes\\n8.771143813317128Good5016YesYes\\n2.67115540406128Medium4217YesYes\\n11.0713184112996Medium4417NoYes\\n8.89122760270100Good6018NoNo\\n4.95121415412110Medium5410YesYes\\n6.59109730454102Medium6515YesNo\\n3.24130600144138Bad3810NoNo\\n2.0711998018126Bad7317NoNo\\n7.96157530403124Bad5816YesNo\\n10.43776902524Medium5018YesNo\\n4.12123421116134Medium5913YesYes\\n4.168579632595Medium6913YesYes\\n4.56141630168135Bad4412YesYes\\n12.4412790141670Medium4815NoYes\\n4.38126980173108Bad5516YesNo\\n3.9111652034998Bad6918YesNo\\n10.6115793051149Good3217YesNo\\n1.42993218341108Bad8016YesYes\\n4.42121900150108Bad7516YesNo\\nCompany_Data\\nPage 27.91153403112129Bad3918YesYes\\n6.92109641339119Medium6117YesYes\\n4.91341031325144Medium7617NoYes\\n6.8514381560154Medium6118YesYes\\n11.911338205484Medium5017YesNo\\n0.919391022117Bad7511YesNo\\n5.421039315188103Bad7416YesYes\\n5.21118714148114Medium8013YesNo\\n8.3212210219469123Bad2913YesYes\\n7.32105320358107Medium2613NoNo\\n1.82139450146133Bad7717YesYes\\n8.471198810170101Medium6113YesYes\\n7.81006712184104Medium3216NoYes\\n4.9122260197128Medium5513NoNo\\n8.8512792050891Medium5618YesNo\\n9.011266114152115Medium4716YesYes\\n13.391496920366134Good6013YesYes\\n7.9912759033999Medium6512YesNo\\n9.4689811523799Good7412YesYes\\n6.51485116148150Medium5817NoYes\\n5.52115450432116Medium2515YesNo\\n12.61118901054104Good3111NoYes\\n6.2150685125136Medium6413NoYes\\n8.55881112348092Bad3616NoYes\\n10.64102871034670Medium6415YesYes\\n7.711871124489Medium6718NoYes\\n4.43134481139145Medium6512YesYes\\n9.1413467028690Bad4113YesNo\\n8.011131001635379Bad6811YesYes\\n7.52116720237128Good7013YesNo\\n11.62151834325139Good2817YesYes\\n4.4210936746894Bad5611YesYes\\n2.2311125052121Bad4318NoNo\\n8.471251030304112Medium4913NoNo\\n8.7150849432134Medium6415YesNo\\n11.7131677272126Good5416NoYes\\n6.56117427144111Medium6210YesYes\\n7.95128663493119Medium4516NoNo\\n5.33115220491103Medium6411NoNo\\n4.81974611267107Medium8015YesYes\\n4.53114113097125Medium2912YesNo\\n8.8614530067104Medium5517YesNo\\n8.3911597513484Bad5511YesYes\\n5.581342510237148Medium5913YesYes\\n9.481474210407132Good7316NoYes\\n7.45161825287129Bad3316YesYes\\n12.491227724382127Good3616NoYes\\n4.88121473220107Bad5616NoYes\\n4.11113691194106Medium7612NoYes\\n6.212893089118Medium3418YesNo\\n5.31132205797Medium6516NoNo\\n5.0712391033496Bad7817YesYes\\n4.62121960472138Medium5112YesNo\\nCompany_Data\\nPage 35.55104100839897Medium6111YesYes\\n0.16102330217139Medium7018NoNo\\n8.551341070104108Medium6012YesNo\\n3.47107792488103Bad6516YesNo\\n8.9811565021790Medium6017NoNo\\n9128627125116Medium4314YesYes\\n6.6213211812272151Medium4314YesYes\\n6.67116995298125Good6212YesYes\\n6.011312911335127Bad3312YesYes\\n9.3112287917106Medium6513YesYes\\n8.5413935095129Medium4213YesNo\\n5.08135750202128Medium8010NoNo\\n8.8145530507119Medium4112YesNo\\n7.5711288224399Medium6211YesYes\\n7.37130948137128Medium6412YesYes\\n6.8712810511249131Medium6313YesYes\\n11.67125891038087Bad2810YesYes\\n6.88119100545108Medium7510YesYes\\n8.191271030125155Good2915NoYes\\n8.871311130181120Good6314YesNo\\n9.348978018149Medium4315NoNo\\n11.2715368260133Good5916YesYes\\n6.52125483192116Medium5114YesYes\\n4.961331003350126Bad5513YesYes\\n4.471431207279147Bad4010NoYes\\n8.4194841349777Medium5112YesYes\\n6.510869320894Medium7716YesNo\\n9.54125879232136Good7210YesYes\\n7.6213298226597Bad6212YesYes\\n3.67132310327131Medium7616YesNo\\n6.44969414384120Medium3618NoYes\\n5.1713175010120Bad3118NoNo\\n6.52128420436118Medium8011YesNo\\n10.2712510312371109Medium4410YesYes\\n12.3146621031094Medium3013NoYes\\n6.031336010277129Medium4518YesYes\\n6.53140420331131Bad2815YesNo\\n7.44124840300104Medium7715YesNo\\n0.5312288736159Bad2817YesYes\\n9.09132680264123Good3411NoNo\\n8.77144631127117Medium4717YesYes\\n3.9114830412131Bad3914YesNo\\n10.51140549402119Good4116NoYes\\n7.56110119038497Medium7214NoYes\\n11.481211201314087Medium5611YesYes\\n10.49122848176114Good5710NoYes\\n10.771115817407103Good7517NoYes\\n7.64128780341128Good4513NoNo\\n5.93150367488150Medium2517NoYes\\n6.891296910289110Medium5016NoYes\\n7.71987205969Medium6516YesNo\\n7.49146340220157Good5116YesNo\\n10.2112158824990Medium4813NoYes\\nCompany_Data\\nPage 412.53142901189112Good3910NoYes\\n9.3211960037270Bad3018NoNo\\n4.67111280486111Medium2912NoNo\\n2.9314321581160Medium6712NoYes\\n3.63122740424149Medium5113YesNo\\n5.6813064040106Bad3917NoNo\\n8.2214864058141Medium2713NoYes\\n0.37147587100191Bad2715YesYes\\n6.711196717151137Medium5511YesYes\\n6.7110673021693Medium6013YesNo\\n7.3129890425117Medium4510YesNo\\n11.48104411549277Good7318YesYes\\n8.011283912356118Medium7110YesYes\\n12.49931061241655Medium7515YesYes\\n9.0310410213123110Good3516YesYes\\n6.38135915207128Medium6618YesYes\\n0139240358185Medium7915NoNo\\n7.5411589038122Medium2512YesNo\\n5.611381079480154Medium4711NoYes\\n10.4813872014894Medium2717YesYes\\n10.6610471148981Medium2514NoYes\\n7.7814425370116Medium7718YesYes\\n4.9413711215434149Bad6613YesYes\\n7.431218307991Medium6811YesNo\\n4.74137604230140Bad2513YesNo\\n5.32118746426102Medium8018YesYes\\n9.951323373597Medium6011NoYes\\n10.0713010011449107Medium6410YesYes\\n8.681205109386Medium4617NoNo\\n6.0311732014296Bad6217YesNo\\n8.0711637042690Medium7615YesNo\\n12.1111811718509104Medium2615NoYes\\n8.791303713297101Medium3713NoYes\\n6.671564213170173Good7414YesYes\\n7.5610826040893Medium5614NoNo\\n13.281397077196Good6110YesYes\\n7.231129818481128Medium4511YesYes\\n4.19117934420112Bad6611YesYes\\n4.1130286410133Bad7216YesYes\\n2.52124610333138Medium7616YesNo\\n3.62112805500128Medium6910YesYes\\n6.42122885335126Medium6414YesYes\\n5.56144920349146Medium6212NoNo\\n5.94138830139134Medium5418YesNo\\n4.1121784413130Bad4610NoYes\\n2.05131820132157Bad2514YesNo\\n8.74155800237124Medium3714YesNo\\n5.68113221317132Medium2812YesNo\\n4.9716267027160Medium7717YesYes\\n8.19111105046697Bad6110NoNo\\n7.788654049764Bad3312YesNo\\n3.0298211132690Bad7611NoYes\\n4.36125412357123Bad4714NoYes\\nCompany_Data\\nPage 59.3911711814445120Medium3215YesYes\\n12.041456919501105Medium4511YesYes\\n8.23149845220139Medium3310YesYes\\n4.83115115348107Medium7318YesYes\\n2.341168315170144Bad7111YesYes\\n5.73141330243144Medium3417YesNo\\n4.34106440481111Medium7014NoNo\\n9.71386112156120Medium2514YesYes\\n10.621167919359116Good5817YesYes\\n10.5913112015262124Medium3010YesYes\\n6.43124440125107Medium8011YesNo\\n7.491361196178145Medium3513YesYes\\n3.45110459276125Medium6214YesYes\\n4.1134820464141Medium4813NoNo\\n6.6810725041282Bad3614YesNo\\n7.8119330245122Good5614YesNo\\n8.69113641068101Medium5716YesYes\\n5.41497313381163Bad2611NoYes\\n11.1998104040472Medium2718NoNo\\n5.16115600119114Bad3814NoNo\\n8.09132690123122Medium2711NoNo\\n13.14137801024105Good6115YesYes\\n8.651237618218120Medium2914NoYes\\n9.431156211289129Good5616NoYes\\n5.5312632895132Medium5017YesYes\\n9.321413416361108Medium6910YesYes\\n9.62151288499135Medium4810YesYes\\n7.36121240200133Good7313YesNo\\n3.891231050149118Bad6216YesYes\\n10.31159800362121Medium2618YesNo\\n12.0113663016094Medium3812YesNo\\n4.68124460199135Medium5214NoNo\\n7.82124251387110Medium5710YesYes\\n8.78130300391100Medium2618YesNo\\n1011443019988Good5710NoYes\\n6.9120562026690Bad7818YesYes\\n5.041231140298151Bad3416YesNo\\n5.3611152012101Medium6111YesYes\\n5.0512567086117Bad6511YesNo\\n9.1613710510435156Good7214YesYes\\n3.721391115310132Bad6213YesYes\\n8.3113397070117Medium3216YesNo\\n5.64124245288122Medium5712NoYes\\n9.5810810423353129Good3717YesYes\\n7.7112381819881Bad8015YesYes\\n4.2147400277144Medium7310YesNo\\n8.671256214477112Medium8013YesYes\\n3.4710838025181Bad7214NoNo\\n5.121233610467100Bad7411NoYes\\n7.671291178400101Bad3610YesYes\\n5.71121424188118Medium5415YesYes\\n6.37120771586132Medium4818YesYes\\n7.77116266434115Medium2517YesYes\\nCompany_Data\\nPage 66.95128295324159Good3115YesYes\\n5.311303510402129Bad3917YesYes\\n9.11289312343112Good7317NoYes\\n5.83134827473112Bad5112NoYes\\n6.5312357066105Medium3911YesNo\\n5.01159690438166Medium4617YesNo\\n11.9911926028489Good2610YesNo\\n4.55111560504110Medium6216YesNo\\n12.981133301463Good3812YesNo\\n10.04116106824486Medium5812YesYes\\n7.2213593267119Medium3411YesYes\\n6.6710711911210132Medium5311YesYes\\n6.931356914296130Medium7315YesYes\\n7.81364812326125Medium3616YesYes\\n7.221141132129151Good4015NoYes\\n3.421415713376158Medium6418YesYes\\n2.861218610496145Bad5110YesYes\\n11.19122697303105Good4516NoYes\\n7.7415096080154Good6111YesNo\\n5.361351100112117Medium8016NoNo\\n6.97106461141496Bad7917NoNo\\n7.61462611261131Medium3910YesYes\\n7.5311711811429113Medium6718NoYes\\n6.889544420872Bad4417YesYes\\n6.981164007497Medium7615NoNo\\n8.751437725448156Medium4317YesYes\\n9.4910711114400103Medium4111NoYes\\n6.6411870010689Bad3917YesNo\\n11.82113661632274Good7615YesYes\\n11.281238407489Good5910YesNo\\n12.6614876312699Good6011YesYes\\n4.211183514502137Medium7910NoYes\\n8.211274413160123Good6318YesYes\\n3.071188313276104Bad7510YesYes\\n10.98148630312130Good6315YesNo\\n9.4135401749796Medium5417NoYes\\n8.5711678115899Medium4511YesYes\\n7.419993019887Medium5716YesYes\\n5.281087713388110Bad7414YesYes\\n10.01133521629099Medium4311YesYes\\n11.931239812408134Good2910YesYes\\n8.031152926394132Medium3313YesYes\\n4.7813132185133Medium4812YesYes\\n5.913892013120Bad6112YesNo\\n9.241268019436126Medium5210YesYes\\n11.18131111133380Bad6818YesYes\\n9.531756529419166Medium5312YesYes\\n6.151466812328132Bad5114YesYes\\n6.81371175337135Bad3810YesYes\\n9.3310381349154Medium6613YesNo\\n7.721333310333129Good7114YesYes\\n6.39131218220171Good2914YesYes\\n15.6312236536972Good3510YesYes\\nCompany_Data\\nPage 76.41142300472136Good8015NoNo\\n10.081167210456130Good4114NoYes\\n6.971274519459129Medium5711NoYes\\n5.861367012171152Medium4418YesYes\\n7.5212339549998Medium3415YesNo\\n9.161405010300139Good6015YesYes\\n10.3610710518428103Medium3412YesYes\\n2.66136654133150Bad5313YesYes\\n11.71446911131104Medium4711YesYes\\n4.69133300152122Medium5317YesNo\\n6.231123817316104Medium8016YesYes\\n3.1511766165111Bad5511YesYes\\n11.2710054943389Good4512YesYes\\n4.99122590501112Bad3214NoNo\\n10.11356315213134Medium3210YesYes\\n5.741063320354104Medium6112YesYes\\n5.87136607303147Medium4110YesYes\\n7.6393117948983Bad4213YesYes\\n6.181207015464110Medium7215YesYes\\n5.1713835660143Bad2818YesNo\\n8.61130380283102Medium8015YesNo\\n5.97112240164101Medium4511YesNo\\n11.54134444219126Good4415YesYes\\n7.514029010591Bad4316YesNo\\n7.3898120026893Medium7210NoNo\\n7.8113710213422118Medium7110NoYes\\n5.991174210371121Bad2614YesYes\\n8.43138800108126Good7013NoYes\\n4.81121680279149Good7912YesNo\\n8.971321070144125Medium3313NoNo\\n6.8896390161112Good2714NoNo\\n12.5713210220459107Good4911YesYes\\n9.32134271846796Medium4914NoYes\\n8.641111011726691Medium6317NoYes\\n10.4412411516458105Medium6216NoYes\\n13.4413310314288122Good6117YesYes\\n9.45107671243092Medium3512NoYes\\n5.313331180145Medium4218YesYes\\n7.021301000306146Good4211YesNo\\n3.581421090111164Good7212YesNo\\n13.3610373327672Medium3415YesYes\\n4.17123961071118Bad6911YesYes\\n3.131306211396130Bad6614YesYes\\n8.77118867265114Good5215NoYes\\n8.681312510183104Medium5615NoYes\\n5.2513155026110Bad7912YesYes\\n10.26111751377108Good2512YesNo\\n10.51222116488131Good3014YesYes\\n6.53154300122162Medium5717NoNo\\n5.981245611447134Medium5312NoYes\\n14.3795106025653Good5217YesNo\\n10.71109221034879Good7414NoYes\\n10.2613510022463122Medium3614YesYes\\nCompany_Data\\nPage 87.681264122403119Bad4212YesYes\\n9.08152810191126Medium5416YesNo\\n7.812150050898Medium6511NoNo\\n5.58137710402116Medium7817YesNo\\n9.4413147790118Medium4712YesYes\\n7.9132464206124Medium7311YesNo\\n16.27141601931992Good4411YesYes\\n6.81132610263125Medium4112NoNo\\n6.11133883105119Medium7912YesYes\\n5.811251110404107Bad5415YesNo\\n9.6410664101789Medium6817YesYes\\n3.91246521496151Bad7713YesYes\\n4.951212819315121Medium6614YesYes\\n9.359811707668Medium6310YesNo\\n12.851233715348112Good2812YesYes\\n5.871317313455132Medium6217YesYes\\n5.321521160170160Medium3916YesNo\\n8.671427314238115Medium7314NoYes\\n8.14135891124578Bad7916YesYes\\n8.44128428328107Medium3512YesYes\\n5.4710875961111Medium6712YesYes\\n6.115363049124Bad5616YesNo\\n4.531294213315130Bad3413YesYes\\n5.57109511026120Medium3017NoYes\\n5.351305819366139Bad3316YesYes\\n12.5713810817203128Good3314YesYes\\n6.1413923337120Medium5511NoYes\\n7.411622612368159Medium4018YesYes\\n5.9410079728495Bad5012YesYes\\n9.7113437027120Good4916YesYes\\n'"
            ],
            "application/vnd.google.colaboratory.intrinsic+json": {
              "type": "string"
            }
          },
          "metadata": {},
          "execution_count": 75
        }
      ]
    },
    {
      "cell_type": "markdown",
      "source": [
        "# Data Loading"
      ],
      "metadata": {
        "id": "U6uZhQ5rpKr5"
      }
    },
    {
      "cell_type": "code",
      "source": [
        "def load_data(file_path):\n",
        "    if file_path.endswith('.txt'):\n",
        "        loader = TextLoader(file_path)\n",
        "        documents = loader.load()\n",
        "        return 'text', documents\n",
        "\n",
        "    elif file_path.endswith('.csv'):\n",
        "        df = pd.read_csv(file_path)\n",
        "        return 'dataset', df\n",
        "\n",
        "    elif file_path.endswith('.xlsx'):\n",
        "        df = pd.read_excel(file_path)\n",
        "        return 'dataset', df\n",
        "\n",
        "    else:\n",
        "        raise ValueError(\"Unsupported file format\")"
      ],
      "metadata": {
        "id": "r5Guvstue35m"
      },
      "execution_count": null,
      "outputs": []
    },
    {
      "cell_type": "code",
      "source": [
        "def prepare_chunks(file_type, data):\n",
        "    text_splitter = RecursiveCharacterTextSplitter(chunk_size=1000, chunk_overlap=100)\n",
        "\n",
        "    if file_type == 'text':\n",
        "        # Split text documents\n",
        "        docs = text_splitter.split_documents(data)\n",
        "\n",
        "    elif file_type == 'dataset':\n",
        "        # Convert each row to a text chunk\n",
        "        docs = []\n",
        "        for idx, row in data.iterrows():\n",
        "            chunk = \" \".join([f\"{col}: {row[col]}\" for col in data.columns])\n",
        "            docs.append(Document(page_content=chunk))\n",
        "\n",
        "    return docs"
      ],
      "metadata": {
        "id": "u-ydENBqfkHX"
      },
      "execution_count": null,
      "outputs": []
    },
    {
      "cell_type": "code",
      "source": [
        "file_path = '/content/Company_Data.csv'\n",
        "file_type, data = load_data(file_path)\n",
        "docs = prepare_chunks(file_type, data)"
      ],
      "metadata": {
        "id": "qhkniUCtf3SW"
      },
      "execution_count": null,
      "outputs": []
    },
    {
      "cell_type": "markdown",
      "source": [
        "# embeddings and llm setup"
      ],
      "metadata": {
        "id": "XfNTfpBRpOe5"
      }
    },
    {
      "cell_type": "code",
      "source": [
        "openai_api_key =getpass.getpass(\"Enter your api key: \")\n",
        "api_key=openai_api_key\n",
        "azure_endpoint = 'XXX'"
      ],
      "metadata": {
        "id": "yqvQLggWgX1-"
      },
      "execution_count": null,
      "outputs": []
    },
    {
      "cell_type": "code",
      "source": [
        "embeddings = AzureOpenAIEmbeddings(openai_api_key=openai_api_key,chunk_size=1000,azure_endpoint=azure_endpoint)\n",
        "\n",
        "# Store embeddings in Chroma\n",
        "vectorstore = Chroma.from_documents(docs, embeddings)"
      ],
      "metadata": {
        "id": "k6DS98Ujf-u3"
      },
      "execution_count": null,
      "outputs": []
    },
    {
      "cell_type": "code",
      "source": [
        "llm=AzureChatOpenAI(api_key=api_key,\n",
        "                azure_endpoint=azure_endpoint,\n",
        "                api_version='2024-05-01-preview',\n",
        "                model='gpt-4o-mini',\n",
        "                deployment_name='gpt-4o-mini')"
      ],
      "metadata": {
        "id": "v8pgvI9yj9HQ"
      },
      "execution_count": null,
      "outputs": []
    },
    {
      "cell_type": "code",
      "source": [
        "# Create the retriever\n",
        "retriever = vectorstore.as_retriever()\n",
        "\n",
        "# Use the retriever in a Retrieval-QA chain\n",
        "qa_chain = RetrievalQA.from_chain_type(llm=llm,\n",
        "                                       retriever=retriever,\n",
        "                                       chain_type=\"stuff\")\n",
        "\n",
        "# Ask a question\n",
        "query = \"What are the key insights from the data or document?\"\n",
        "result = qa_chain.invoke(query)\n",
        "\n",
        "print(result)\n"
      ],
      "metadata": {
        "colab": {
          "base_uri": "https://localhost:8080/"
        },
        "id": "R0uTuz8EhuzX",
        "outputId": "7a5d8cbb-4ef6-4343-a4d8-e7489c1d4da6"
      },
      "execution_count": null,
      "outputs": [
        {
          "output_type": "stream",
          "name": "stdout",
          "text": [
            "{'query': 'What are the key insights from the data or document?', 'result': 'The data provides insights into sales performance and various influencing factors. Here are the key insights:\\n\\n1. **Sales Performance**: There are two distinct sales figures: 11.27 and 7.74. The higher sales figure is associated with a lower price and advertising spend, while the lower sales figure corresponds to a higher price and no advertising.\\n\\n2. **Price Sensitivity**: The first set of data shows that lower prices (133) can lead to higher sales (11.27), while higher prices (154) result in lower sales (7.74), indicating price sensitivity among consumers.\\n\\n3. **Advertising Impact**: The first set has an advertising spend of 2, while the second has none. Despite the first set having a lower advertising budget, it still achieves higher sales, suggesting that other factors may be more influential than advertising in this case.\\n\\n4. **Demographics**: Both sets have similar population sizes (60 and 80), but different income levels (68 and 96). The differences in income and education levels (16 vs. 11) may also play a role in consumer behavior.\\n\\n5. **Urban vs. US Presence**: The first set of data is marked as urban and in the US, while the second set is urban but not in the US. This geographical distinction could affect market dynamics and consumer preferences.\\n\\n6. **Shelving Location**: Both sets have a \"Good\" shelf location, which likely contributes positively to sales, indicating that placement may be a consistent factor in performance.\\n\\nThese insights suggest that pricing, demographic factors, and potentially market location are critical components influencing sales outcomes.'}\n"
          ]
        }
      ]
    },
    {
      "cell_type": "code",
      "source": [
        "pdf_reader = PyPDF2.PdfReader('/content/Company_Data.pdf')\n",
        "raw_text = \"\"\n",
        "text_splitter = RecursiveCharacterTextSplitter(chunk_size=1000, chunk_overlap=100)\n",
        "chunks = text_splitter.split_text(raw_text)\n",
        "for page_num in range(len(pdf_reader.pages)):\n",
        "    raw_text += pdf_reader.pages[page_num].extract_text()"
      ],
      "metadata": {
        "id": "affTVOmUKp37"
      },
      "execution_count": null,
      "outputs": []
    },
    {
      "cell_type": "code",
      "source": [
        "raw_text"
      ],
      "metadata": {
        "id": "-PXcUQQNKvoq",
        "outputId": "3c5a935b-bca7-4dc6-8755-99444c5278c4",
        "colab": {
          "base_uri": "https://localhost:8080/",
          "height": 122
        }
      },
      "execution_count": null,
      "outputs": [
        {
          "output_type": "execute_result",
          "data": {
            "text/plain": [
              "'Company_Data\\nPage 1SalesCompPriceIncomeAdvertisingPopulationPriceShelveLocAgeEducationUrbanUS\\n9.51387311276120Bad4217YesYes\\n11.22111481626083Good6510YesYes\\n10.06113351026980Medium5912YesYes\\n7.4117100446697Medium5514YesYes\\n4.15141643340128Bad3813YesNo\\n10.811241131350172Bad7816NoYes\\n6.63115105045108Medium7115YesNo\\n11.851368115425120Good6710YesYes\\n6.541321100108124Medium7610NoNo\\n4.691321130131124Medium7617NoYes\\n9.01121789150100Bad2610NoYes\\n11.9611794450394Good5013YesYes\\n3.98122352393136Medium6218YesNo\\n10.9611528112986Good5318YesYes\\n11.1710711711148118Good5218YesYes\\n8.71149955400144Medium7618NoNo\\n7.58118320284110Good6313YesNo\\n12.291477413251131Good5210YesYes\\n13.91110110040868Good4617NoYes\\n8.73129761658121Medium6912YesYes\\n6.41125902367131Medium3518YesYes\\n12.131342912239109Good6218NoYes\\n5.08128466497138Medium4213YesNo\\n5.87121310292109Medium7910YesNo\\n10.1414511916294113Bad4212YesYes\\n14.913932017682Good5411NoNo\\n8.3310711511496131Good5011NoYes\\n5.2798118019107Medium6417YesNo\\n2.9910374035997Bad5511YesYes\\n7.811049915226102Bad5817YesYes\\n13.5512594044789Good3012YesNo\\n8.251365816241131Medium4418YesYes\\n6.21073212236137Good6410NoYes\\n8.771143813317128Good5016YesYes\\n2.67115540406128Medium4217YesYes\\n11.0713184112996Medium4417NoYes\\n8.89122760270100Good6018NoNo\\n4.95121415412110Medium5410YesYes\\n6.59109730454102Medium6515YesNo\\n3.24130600144138Bad3810NoNo\\n2.0711998018126Bad7317NoNo\\n7.96157530403124Bad5816YesNo\\n10.43776902524Medium5018YesNo\\n4.12123421116134Medium5913YesYes\\n4.168579632595Medium6913YesYes\\n4.56141630168135Bad4412YesYes\\n12.4412790141670Medium4815NoYes\\n4.38126980173108Bad5516YesNo\\n3.9111652034998Bad6918YesNo\\n10.6115793051149Good3217YesNo\\n1.42993218341108Bad8016YesYes\\n4.42121900150108Bad7516YesNoCompany_Data\\nPage 27.91153403112129Bad3918YesYes\\n6.92109641339119Medium6117YesYes\\n4.91341031325144Medium7617NoYes\\n6.8514381560154Medium6118YesYes\\n11.911338205484Medium5017YesNo\\n0.919391022117Bad7511YesNo\\n5.421039315188103Bad7416YesYes\\n5.21118714148114Medium8013YesNo\\n8.3212210219469123Bad2913YesYes\\n7.32105320358107Medium2613NoNo\\n1.82139450146133Bad7717YesYes\\n8.471198810170101Medium6113YesYes\\n7.81006712184104Medium3216NoYes\\n4.9122260197128Medium5513NoNo\\n8.8512792050891Medium5618YesNo\\n9.011266114152115Medium4716YesYes\\n13.391496920366134Good6013YesYes\\n7.9912759033999Medium6512YesNo\\n9.4689811523799Good7412YesYes\\n6.51485116148150Medium5817NoYes\\n5.52115450432116Medium2515YesNo\\n12.61118901054104Good3111NoYes\\n6.2150685125136Medium6413NoYes\\n8.55881112348092Bad3616NoYes\\n10.64102871034670Medium6415YesYes\\n7.711871124489Medium6718NoYes\\n4.43134481139145Medium6512YesYes\\n9.1413467028690Bad4113YesNo\\n8.011131001635379Bad6811YesYes\\n7.52116720237128Good7013YesNo\\n11.62151834325139Good2817YesYes\\n4.4210936746894Bad5611YesYes\\n2.2311125052121Bad4318NoNo\\n8.471251030304112Medium4913NoNo\\n8.7150849432134Medium6415YesNo\\n11.7131677272126Good5416NoYes\\n6.56117427144111Medium6210YesYes\\n7.95128663493119Medium4516NoNo\\n5.33115220491103Medium6411NoNo\\n4.81974611267107Medium8015YesYes\\n4.53114113097125Medium2912YesNo\\n8.8614530067104Medium5517YesNo\\n8.3911597513484Bad5511YesYes\\n5.581342510237148Medium5913YesYes\\n9.481474210407132Good7316NoYes\\n7.45161825287129Bad3316YesYes\\n12.491227724382127Good3616NoYes\\n4.88121473220107Bad5616NoYes\\n4.11113691194106Medium7612NoYes\\n6.212893089118Medium3418YesNo\\n5.31132205797Medium6516NoNo\\n5.0712391033496Bad7817YesYes\\n4.62121960472138Medium5112YesNoCompany_Data\\nPage 35.55104100839897Medium6111YesYes\\n0.16102330217139Medium7018NoNo\\n8.551341070104108Medium6012YesNo\\n3.47107792488103Bad6516YesNo\\n8.9811565021790Medium6017NoNo\\n9128627125116Medium4314YesYes\\n6.6213211812272151Medium4314YesYes\\n6.67116995298125Good6212YesYes\\n6.011312911335127Bad3312YesYes\\n9.3112287917106Medium6513YesYes\\n8.5413935095129Medium4213YesNo\\n5.08135750202128Medium8010NoNo\\n8.8145530507119Medium4112YesNo\\n7.5711288224399Medium6211YesYes\\n7.37130948137128Medium6412YesYes\\n6.8712810511249131Medium6313YesYes\\n11.67125891038087Bad2810YesYes\\n6.88119100545108Medium7510YesYes\\n8.191271030125155Good2915NoYes\\n8.871311130181120Good6314YesNo\\n9.348978018149Medium4315NoNo\\n11.2715368260133Good5916YesYes\\n6.52125483192116Medium5114YesYes\\n4.961331003350126Bad5513YesYes\\n4.471431207279147Bad4010NoYes\\n8.4194841349777Medium5112YesYes\\n6.510869320894Medium7716YesNo\\n9.54125879232136Good7210YesYes\\n7.6213298226597Bad6212YesYes\\n3.67132310327131Medium7616YesNo\\n6.44969414384120Medium3618NoYes\\n5.1713175010120Bad3118NoNo\\n6.52128420436118Medium8011YesNo\\n10.2712510312371109Medium4410YesYes\\n12.3146621031094Medium3013NoYes\\n6.031336010277129Medium4518YesYes\\n6.53140420331131Bad2815YesNo\\n7.44124840300104Medium7715YesNo\\n0.5312288736159Bad2817YesYes\\n9.09132680264123Good3411NoNo\\n8.77144631127117Medium4717YesYes\\n3.9114830412131Bad3914YesNo\\n10.51140549402119Good4116NoYes\\n7.56110119038497Medium7214NoYes\\n11.481211201314087Medium5611YesYes\\n10.49122848176114Good5710NoYes\\n10.771115817407103Good7517NoYes\\n7.64128780341128Good4513NoNo\\n5.93150367488150Medium2517NoYes\\n6.891296910289110Medium5016NoYes\\n7.71987205969Medium6516YesNo\\n7.49146340220157Good5116YesNo\\n10.2112158824990Medium4813NoYesCompany_Data\\nPage 412.53142901189112Good3910NoYes\\n9.3211960037270Bad3018NoNo\\n4.67111280486111Medium2912NoNo\\n2.9314321581160Medium6712NoYes\\n3.63122740424149Medium5113YesNo\\n5.6813064040106Bad3917NoNo\\n8.2214864058141Medium2713NoYes\\n0.37147587100191Bad2715YesYes\\n6.711196717151137Medium5511YesYes\\n6.7110673021693Medium6013YesNo\\n7.3129890425117Medium4510YesNo\\n11.48104411549277Good7318YesYes\\n8.011283912356118Medium7110YesYes\\n12.49931061241655Medium7515YesYes\\n9.0310410213123110Good3516YesYes\\n6.38135915207128Medium6618YesYes\\n0139240358185Medium7915NoNo\\n7.5411589038122Medium2512YesNo\\n5.611381079480154Medium4711NoYes\\n10.4813872014894Medium2717YesYes\\n10.6610471148981Medium2514NoYes\\n7.7814425370116Medium7718YesYes\\n4.9413711215434149Bad6613YesYes\\n7.431218307991Medium6811YesNo\\n4.74137604230140Bad2513YesNo\\n5.32118746426102Medium8018YesYes\\n9.951323373597Medium6011NoYes\\n10.0713010011449107Medium6410YesYes\\n8.681205109386Medium4617NoNo\\n6.0311732014296Bad6217YesNo\\n8.0711637042690Medium7615YesNo\\n12.1111811718509104Medium2615NoYes\\n8.791303713297101Medium3713NoYes\\n6.671564213170173Good7414YesYes\\n7.5610826040893Medium5614NoNo\\n13.281397077196Good6110YesYes\\n7.231129818481128Medium4511YesYes\\n4.19117934420112Bad6611YesYes\\n4.1130286410133Bad7216YesYes\\n2.52124610333138Medium7616YesNo\\n3.62112805500128Medium6910YesYes\\n6.42122885335126Medium6414YesYes\\n5.56144920349146Medium6212NoNo\\n5.94138830139134Medium5418YesNo\\n4.1121784413130Bad4610NoYes\\n2.05131820132157Bad2514YesNo\\n8.74155800237124Medium3714YesNo\\n5.68113221317132Medium2812YesNo\\n4.9716267027160Medium7717YesYes\\n8.19111105046697Bad6110NoNo\\n7.788654049764Bad3312YesNo\\n3.0298211132690Bad7611NoYes\\n4.36125412357123Bad4714NoYesCompany_Data\\nPage 59.3911711814445120Medium3215YesYes\\n12.041456919501105Medium4511YesYes\\n8.23149845220139Medium3310YesYes\\n4.83115115348107Medium7318YesYes\\n2.341168315170144Bad7111YesYes\\n5.73141330243144Medium3417YesNo\\n4.34106440481111Medium7014NoNo\\n9.71386112156120Medium2514YesYes\\n10.621167919359116Good5817YesYes\\n10.5913112015262124Medium3010YesYes\\n6.43124440125107Medium8011YesNo\\n7.491361196178145Medium3513YesYes\\n3.45110459276125Medium6214YesYes\\n4.1134820464141Medium4813NoNo\\n6.6810725041282Bad3614YesNo\\n7.8119330245122Good5614YesNo\\n8.69113641068101Medium5716YesYes\\n5.41497313381163Bad2611NoYes\\n11.1998104040472Medium2718NoNo\\n5.16115600119114Bad3814NoNo\\n8.09132690123122Medium2711NoNo\\n13.14137801024105Good6115YesYes\\n8.651237618218120Medium2914NoYes\\n9.431156211289129Good5616NoYes\\n5.5312632895132Medium5017YesYes\\n9.321413416361108Medium6910YesYes\\n9.62151288499135Medium4810YesYes\\n7.36121240200133Good7313YesNo\\n3.891231050149118Bad6216YesYes\\n10.31159800362121Medium2618YesNo\\n12.0113663016094Medium3812YesNo\\n4.68124460199135Medium5214NoNo\\n7.82124251387110Medium5710YesYes\\n8.78130300391100Medium2618YesNo\\n1011443019988Good5710NoYes\\n6.9120562026690Bad7818YesYes\\n5.041231140298151Bad3416YesNo\\n5.3611152012101Medium6111YesYes\\n5.0512567086117Bad6511YesNo\\n9.1613710510435156Good7214YesYes\\n3.721391115310132Bad6213YesYes\\n8.3113397070117Medium3216YesNo\\n5.64124245288122Medium5712NoYes\\n9.5810810423353129Good3717YesYes\\n7.7112381819881Bad8015YesYes\\n4.2147400277144Medium7310YesNo\\n8.671256214477112Medium8013YesYes\\n3.4710838025181Bad7214NoNo\\n5.121233610467100Bad7411NoYes\\n7.671291178400101Bad3610YesYes\\n5.71121424188118Medium5415YesYes\\n6.37120771586132Medium4818YesYes\\n7.77116266434115Medium2517YesYesCompany_Data\\nPage 66.95128295324159Good3115YesYes\\n5.311303510402129Bad3917YesYes\\n9.11289312343112Good7317NoYes\\n5.83134827473112Bad5112NoYes\\n6.5312357066105Medium3911YesNo\\n5.01159690438166Medium4617YesNo\\n11.9911926028489Good2610YesNo\\n4.55111560504110Medium6216YesNo\\n12.981133301463Good3812YesNo\\n10.04116106824486Medium5812YesYes\\n7.2213593267119Medium3411YesYes\\n6.6710711911210132Medium5311YesYes\\n6.931356914296130Medium7315YesYes\\n7.81364812326125Medium3616YesYes\\n7.221141132129151Good4015NoYes\\n3.421415713376158Medium6418YesYes\\n2.861218610496145Bad5110YesYes\\n11.19122697303105Good4516NoYes\\n7.7415096080154Good6111YesNo\\n5.361351100112117Medium8016NoNo\\n6.97106461141496Bad7917NoNo\\n7.61462611261131Medium3910YesYes\\n7.5311711811429113Medium6718NoYes\\n6.889544420872Bad4417YesYes\\n6.981164007497Medium7615NoNo\\n8.751437725448156Medium4317YesYes\\n9.4910711114400103Medium4111NoYes\\n6.6411870010689Bad3917YesNo\\n11.82113661632274Good7615YesYes\\n11.281238407489Good5910YesNo\\n12.6614876312699Good6011YesYes\\n4.211183514502137Medium7910NoYes\\n8.211274413160123Good6318YesYes\\n3.071188313276104Bad7510YesYes\\n10.98148630312130Good6315YesNo\\n9.4135401749796Medium5417NoYes\\n8.5711678115899Medium4511YesYes\\n7.419993019887Medium5716YesYes\\n5.281087713388110Bad7414YesYes\\n10.01133521629099Medium4311YesYes\\n11.931239812408134Good2910YesYes\\n8.031152926394132Medium3313YesYes\\n4.7813132185133Medium4812YesYes\\n5.913892013120Bad6112YesNo\\n9.241268019436126Medium5210YesYes\\n11.18131111133380Bad6818YesYes\\n9.531756529419166Medium5312YesYes\\n6.151466812328132Bad5114YesYes\\n6.81371175337135Bad3810YesYes\\n9.3310381349154Medium6613YesNo\\n7.721333310333129Good7114YesYes\\n6.39131218220171Good2914YesYes\\n15.6312236536972Good3510YesYesCompany_Data\\nPage 76.41142300472136Good8015NoNo\\n10.081167210456130Good4114NoYes\\n6.971274519459129Medium5711NoYes\\n5.861367012171152Medium4418YesYes\\n7.5212339549998Medium3415YesNo\\n9.161405010300139Good6015YesYes\\n10.3610710518428103Medium3412YesYes\\n2.66136654133150Bad5313YesYes\\n11.71446911131104Medium4711YesYes\\n4.69133300152122Medium5317YesNo\\n6.231123817316104Medium8016YesYes\\n3.1511766165111Bad5511YesYes\\n11.2710054943389Good4512YesYes\\n4.99122590501112Bad3214NoNo\\n10.11356315213134Medium3210YesYes\\n5.741063320354104Medium6112YesYes\\n5.87136607303147Medium4110YesYes\\n7.6393117948983Bad4213YesYes\\n6.181207015464110Medium7215YesYes\\n5.1713835660143Bad2818YesNo\\n8.61130380283102Medium8015YesNo\\n5.97112240164101Medium4511YesNo\\n11.54134444219126Good4415YesYes\\n7.514029010591Bad4316YesNo\\n7.3898120026893Medium7210NoNo\\n7.8113710213422118Medium7110NoYes\\n5.991174210371121Bad2614YesYes\\n8.43138800108126Good7013NoYes\\n4.81121680279149Good7912YesNo\\n8.971321070144125Medium3313NoNo\\n6.8896390161112Good2714NoNo\\n12.5713210220459107Good4911YesYes\\n9.32134271846796Medium4914NoYes\\n8.641111011726691Medium6317NoYes\\n10.4412411516458105Medium6216NoYes\\n13.4413310314288122Good6117YesYes\\n9.45107671243092Medium3512NoYes\\n5.313331180145Medium4218YesYes\\n7.021301000306146Good4211YesNo\\n3.581421090111164Good7212YesNo\\n13.3610373327672Medium3415YesYes\\n4.17123961071118Bad6911YesYes\\n3.131306211396130Bad6614YesYes\\n8.77118867265114Good5215NoYes\\n8.681312510183104Medium5615NoYes\\n5.2513155026110Bad7912YesYes\\n10.26111751377108Good2512YesNo\\n10.51222116488131Good3014YesYes\\n6.53154300122162Medium5717NoNo\\n5.981245611447134Medium5312NoYes\\n14.3795106025653Good5217YesNo\\n10.71109221034879Good7414NoYes\\n10.2613510022463122Medium3614YesYesCompany_Data\\nPage 87.681264122403119Bad4212YesYes\\n9.08152810191126Medium5416YesNo\\n7.812150050898Medium6511NoNo\\n5.58137710402116Medium7817YesNo\\n9.4413147790118Medium4712YesYes\\n7.9132464206124Medium7311YesNo\\n16.27141601931992Good4411YesYes\\n6.81132610263125Medium4112NoNo\\n6.11133883105119Medium7912YesYes\\n5.811251110404107Bad5415YesNo\\n9.6410664101789Medium6817YesYes\\n3.91246521496151Bad7713YesYes\\n4.951212819315121Medium6614YesYes\\n9.359811707668Medium6310YesNo\\n12.851233715348112Good2812YesYes\\n5.871317313455132Medium6217YesYes\\n5.321521160170160Medium3916YesNo\\n8.671427314238115Medium7314NoYes\\n8.14135891124578Bad7916YesYes\\n8.44128428328107Medium3512YesYes\\n5.4710875961111Medium6712YesYes\\n6.115363049124Bad5616YesNo\\n4.531294213315130Bad3413YesYes\\n5.57109511026120Medium3017NoYes\\n5.351305819366139Bad3316YesYes\\n12.5713810817203128Good3314YesYes\\n6.1413923337120Medium5511NoYes\\n7.411622612368159Medium4018YesYes\\n5.9410079728495Bad5012YesYes\\n9.7113437027120Good4916YesYes'"
            ],
            "application/vnd.google.colaboratory.intrinsic+json": {
              "type": "string"
            }
          },
          "metadata": {},
          "execution_count": 77
        }
      ]
    },
    {
      "cell_type": "markdown",
      "source": [
        "# Testing on multiple quiries"
      ],
      "metadata": {
        "id": "RCUTbREHpBn6"
      }
    },
    {
      "cell_type": "code",
      "source": [
        "queries = [\n",
        "    \"What is the highest advertising?\",\n",
        "    \"How are the data columns related to each other?\",\n",
        "    \"What is the highest sales?\",\n",
        "    \"Summarize the key trends in the sales data.\",\n",
        "    \"Identify any anomalies in the sales figures.\"\n",
        "]\n",
        "\n",
        "# Run the model on each query\n",
        "for i, query in enumerate(queries):\n",
        "    print(f\"Query {i + 1}: {query}\")\n",
        "    answer = qa_chain.run(query)\n",
        "    print(f\"Answer {i + 1}: {answer}\")\n",
        "    print(\"-\" * 80)"
      ],
      "metadata": {
        "colab": {
          "base_uri": "https://localhost:8080/"
        },
        "id": "Jyl-G_YynWoB",
        "outputId": "826d4132-4fb1-4910-b516-ef4ba125eeae"
      },
      "execution_count": null,
      "outputs": [
        {
          "output_type": "stream",
          "name": "stdout",
          "text": [
            "Query 1: What is the highest advertising?\n",
            "Answer 1: The highest advertising value in the provided context is 18.\n",
            "--------------------------------------------------------------------------------\n",
            "Query 2: How are the data columns related to each other?\n",
            "Answer 2: I don't know.\n",
            "--------------------------------------------------------------------------------\n",
            "Query 3: What is the highest sales?\n",
            "Answer 3: The highest sales is 11.27.\n",
            "--------------------------------------------------------------------------------\n",
            "Query 4: Summarize the key trends in the sales data.\n",
            "Answer 4: The sales data shows a few key trends:\n",
            "\n",
            "1. **Sales Figures**: There are two distinct sales figures: 7.6 and 10.61. The higher sales figure (10.61) is associated with a better competitive price (CompPrice of 157) and higher income (93).\n",
            "\n",
            "2. **Advertising Impact**: In the cases with higher sales (10.61), there is no advertising expenditure (Advertising: 0), suggesting that factors other than advertising may be driving sales in these instances.\n",
            "\n",
            "3. **Shelving Location**: The higher sales are linked to a \"Good\" shelving location, while the lower sales are associated with a \"Medium\" shelving location. This indicates that product placement may influence sales performance.\n",
            "\n",
            "4. **Demographics**: The sales with the higher figures come from a younger demographic (Age: 32) with a higher education level (Education: 17) compared to the lower sales figures (Age: 39, Education: 10).\n",
            "\n",
            "5. **Urban vs. US Market**: Both sets of sales data are from urban areas, but only the lower sales figures are from the US market, indicating that the higher sales might be influenced by international market dynamics.\n",
            "\n",
            "Overall, better competitive pricing, effective shelving, and demographic factors seem to correlate with higher sales.\n",
            "--------------------------------------------------------------------------------\n",
            "Query 5: Identify any anomalies in the sales figures.\n",
            "Answer 5: The sales figures show that there are two identical entries:\n",
            "\n",
            "1. Sales: 7.91 with CompPrice: 153, Income: 40, Advertising: 3, Population: 112, Price: 129, ShelveLoc: Bad, Age: 39, Education: 18, Urban: Yes, US: Yes.\n",
            "2. Sales: 5.17 with CompPrice: 138, Income: 35, Advertising: 6, Population: 60, Price: 143, ShelveLoc: Bad, Age: 28, Education: 18, Urban: Yes, US: No.\n",
            "\n",
            "Both entries for Sales: 7.91 and Sales: 5.17 appear twice, which could be considered an anomaly in the dataset.\n",
            "--------------------------------------------------------------------------------\n"
          ]
        }
      ]
    }
  ]
}